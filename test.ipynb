{
 "cells": [
  {
   "cell_type": "code",
   "execution_count": 8,
   "metadata": {},
   "outputs": [
    {
     "name": "stdout",
     "output_type": "stream",
     "text": [
      " * Serving Flask app '__main__'\n",
      " * Debug mode: off\n"
     ]
    },
    {
     "name": "stderr",
     "output_type": "stream",
     "text": [
      "WARNING: This is a development server. Do not use it in a production deployment. Use a production WSGI server instead.\n",
      " * Running on http://127.0.0.1:5000\n",
      "Press CTRL+C to quit\n",
      "127.0.0.1 - - [11/Apr/2023 16:50:00] \"GET / HTTP/1.1\" 200 -\n",
      "127.0.0.1 - - [11/Apr/2023 16:50:01] \"GET /data HTTP/1.1\" 200 -\n",
      "127.0.0.1 - - [11/Apr/2023 16:50:02] \"GET /data HTTP/1.1\" 200 -\n",
      "127.0.0.1 - - [11/Apr/2023 16:50:03] \"GET /data HTTP/1.1\" 200 -\n",
      "127.0.0.1 - - [11/Apr/2023 16:50:04] \"GET /data HTTP/1.1\" 200 -\n",
      "127.0.0.1 - - [11/Apr/2023 16:50:05] \"GET /data HTTP/1.1\" 200 -\n",
      "127.0.0.1 - - [11/Apr/2023 16:50:06] \"GET /data HTTP/1.1\" 200 -\n",
      "127.0.0.1 - - [11/Apr/2023 16:50:07] \"GET /data HTTP/1.1\" 200 -\n",
      "127.0.0.1 - - [11/Apr/2023 16:50:08] \"GET /data HTTP/1.1\" 200 -\n",
      "127.0.0.1 - - [11/Apr/2023 16:50:09] \"GET /data HTTP/1.1\" 200 -\n",
      "127.0.0.1 - - [11/Apr/2023 16:50:10] \"GET /data HTTP/1.1\" 200 -\n",
      "127.0.0.1 - - [11/Apr/2023 16:50:11] \"GET /data HTTP/1.1\" 200 -\n",
      "127.0.0.1 - - [11/Apr/2023 16:50:12] \"GET /data HTTP/1.1\" 200 -\n",
      "127.0.0.1 - - [11/Apr/2023 16:50:13] \"GET /data HTTP/1.1\" 200 -\n",
      "127.0.0.1 - - [11/Apr/2023 16:50:14] \"GET /data HTTP/1.1\" 200 -\n",
      "127.0.0.1 - - [11/Apr/2023 16:50:15] \"GET /data HTTP/1.1\" 200 -\n",
      "127.0.0.1 - - [11/Apr/2023 16:50:16] \"GET /data HTTP/1.1\" 200 -\n",
      "127.0.0.1 - - [11/Apr/2023 16:50:17] \"GET /data HTTP/1.1\" 200 -\n",
      "127.0.0.1 - - [11/Apr/2023 16:50:18] \"GET /data HTTP/1.1\" 200 -\n",
      "127.0.0.1 - - [11/Apr/2023 16:50:19] \"GET /data HTTP/1.1\" 200 -\n",
      "127.0.0.1 - - [11/Apr/2023 16:50:20] \"GET /data HTTP/1.1\" 200 -\n",
      "127.0.0.1 - - [11/Apr/2023 16:50:21] \"GET /data HTTP/1.1\" 200 -\n",
      "127.0.0.1 - - [11/Apr/2023 16:50:22] \"GET /data HTTP/1.1\" 200 -\n",
      "127.0.0.1 - - [11/Apr/2023 16:50:23] \"GET /data HTTP/1.1\" 200 -\n",
      "127.0.0.1 - - [11/Apr/2023 16:50:24] \"GET /data HTTP/1.1\" 200 -\n",
      "127.0.0.1 - - [11/Apr/2023 16:50:25] \"GET /data HTTP/1.1\" 200 -\n",
      "127.0.0.1 - - [11/Apr/2023 16:50:26] \"GET /data HTTP/1.1\" 200 -\n",
      "127.0.0.1 - - [11/Apr/2023 16:50:27] \"GET /data HTTP/1.1\" 200 -\n",
      "127.0.0.1 - - [11/Apr/2023 16:50:28] \"GET /data HTTP/1.1\" 200 -\n",
      "127.0.0.1 - - [11/Apr/2023 16:50:29] \"GET /data HTTP/1.1\" 200 -\n",
      "127.0.0.1 - - [11/Apr/2023 16:50:30] \"GET /data HTTP/1.1\" 200 -\n",
      "127.0.0.1 - - [11/Apr/2023 16:50:31] \"GET /data HTTP/1.1\" 200 -\n",
      "127.0.0.1 - - [11/Apr/2023 16:50:32] \"GET /data HTTP/1.1\" 200 -\n",
      "127.0.0.1 - - [11/Apr/2023 16:50:33] \"GET /data HTTP/1.1\" 200 -\n",
      "127.0.0.1 - - [11/Apr/2023 16:50:34] \"GET /data HTTP/1.1\" 200 -\n",
      "127.0.0.1 - - [11/Apr/2023 16:50:35] \"GET /data HTTP/1.1\" 200 -\n",
      "127.0.0.1 - - [11/Apr/2023 16:50:36] \"GET /data HTTP/1.1\" 200 -\n",
      "127.0.0.1 - - [11/Apr/2023 16:50:37] \"GET /data HTTP/1.1\" 200 -\n",
      "127.0.0.1 - - [11/Apr/2023 16:50:38] \"GET /data HTTP/1.1\" 200 -\n",
      "127.0.0.1 - - [11/Apr/2023 16:50:39] \"GET /data HTTP/1.1\" 200 -\n",
      "127.0.0.1 - - [11/Apr/2023 16:50:40] \"GET /data HTTP/1.1\" 200 -\n",
      "127.0.0.1 - - [11/Apr/2023 16:50:41] \"GET /data HTTP/1.1\" 200 -\n",
      "127.0.0.1 - - [11/Apr/2023 16:50:42] \"GET /data HTTP/1.1\" 200 -\n",
      "127.0.0.1 - - [11/Apr/2023 16:50:43] \"GET /data HTTP/1.1\" 200 -\n",
      "127.0.0.1 - - [11/Apr/2023 16:50:44] \"GET /data HTTP/1.1\" 200 -\n",
      "127.0.0.1 - - [11/Apr/2023 16:50:45] \"GET /data HTTP/1.1\" 200 -\n",
      "127.0.0.1 - - [11/Apr/2023 16:50:46] \"GET /data HTTP/1.1\" 200 -\n",
      "127.0.0.1 - - [11/Apr/2023 16:50:47] \"GET /data HTTP/1.1\" 200 -\n",
      "127.0.0.1 - - [11/Apr/2023 16:50:48] \"GET /data HTTP/1.1\" 200 -\n",
      "127.0.0.1 - - [11/Apr/2023 16:50:49] \"GET /data HTTP/1.1\" 200 -\n",
      "127.0.0.1 - - [11/Apr/2023 16:50:50] \"GET /data HTTP/1.1\" 200 -\n"
     ]
    }
   ],
   "source": [
    "# -*- coding: UTF-8 -*-\n",
    "\"\"\"\n",
    "hello_flask: First Python-Flask webapp\n",
    "\"\"\"\n",
    "import random\n",
    "from flask import render_template\n",
    "from flask import Flask  # From module flask import class Flask\n",
    "app = Flask(__name__)    # Construct an instance of Flask class for our webapp\n",
    "\n",
    "# function to generate random data\n",
    "def get_data():\n",
    "    data = []\n",
    "    for i in range(10):\n",
    "        data.append(random.randint(0, 5))\n",
    "    return data\n",
    "\n",
    "# route to render the dashboard template\n",
    "@app.route('/')\n",
    "def main():\n",
    "    return render_template(\"dashboard.html\")\n",
    "\n",
    "# route to get real-time data\n",
    "@app.route('/data')\n",
    "def data():\n",
    "    return {'data': get_data()}\n",
    "\n",
    "if __name__ == '__main__':  # Script executed directly?\n",
    "    app.run()  # Launch built-in web server and run this Flask webapp"
   ]
  }
 ],
 "metadata": {
  "kernelspec": {
   "display_name": "Python 3",
   "language": "python",
   "name": "python3"
  },
  "language_info": {
   "codemirror_mode": {
    "name": "ipython",
    "version": 3
   },
   "file_extension": ".py",
   "mimetype": "text/x-python",
   "name": "python",
   "nbconvert_exporter": "python",
   "pygments_lexer": "ipython3",
   "version": "3.10.11"
  },
  "orig_nbformat": 4
 },
 "nbformat": 4,
 "nbformat_minor": 2
}
